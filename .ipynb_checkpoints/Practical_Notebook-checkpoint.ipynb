{
 "cells": [
  {
   "cell_type": "markdown",
   "metadata": {},
   "source": [
    "# Solar Geoengineering Practical\n",
    "\n",
    "In this practical we will analyze the climate response to stratospheric aerosol geoengineering using results from the Geoengineering Large Ensemble (GLENS) runs. You can find out more about the GLENS runs here: https://journals.ametsoc.org/doi/full/10.1175/BAMS-D-17-0267.1\n",
    "\n",
    "By following the steps described below you will learn how to make certain plots and analyses that you can then apply to your region. "
   ]
  },
  {
   "cell_type": "markdown",
   "metadata": {},
   "source": [
    "## 1. load modules\n",
    "If there are any errors here, you should go back to the instructions in the readme, and check that you have followed them correctly."
   ]
  },
  {
   "cell_type": "code",
   "execution_count": 1,
   "metadata": {},
   "outputs": [],
   "source": [
    "import numpy as np\n",
    "import matplotlib.pyplot as plt\n",
    "import matplotlib.colors as colors\n",
    "from netCDF4 import Dataset\n",
    "from mpl_toolkits.basemap import Basemap, addcyclic, shiftgrid\n",
    "from pathlib import Path"
   ]
  },
  {
   "cell_type": "code",
   "execution_count": 2,
   "metadata": {},
   "outputs": [
    {
     "name": "stdout",
     "output_type": "stream",
     "text": [
      "3.7.6\n"
     ]
    }
   ],
   "source": [
    "from platform import python_version\n",
    "\n",
    "print(python_version())"
   ]
  },
  {
   "cell_type": "markdown",
   "metadata": {},
   "source": [
    "## 2. Some file definitons\n",
    "Now we create some file and other definitions that we will use later."
   ]
  },
  {
   "cell_type": "code",
   "execution_count": 3,
   "metadata": {},
   "outputs": [
    {
     "name": "stdout",
     "output_type": "stream",
     "text": [
      "<class 'netCDF4._netCDF4.Variable'>\n",
      "float32 TREFHT(time, lat, lon)\n",
      "    long_name: Reference height temperature\n",
      "    units: K\n",
      "    cell_methods: time: mean\n",
      "unlimited dimensions: time\n",
      "current shape = (90, 192, 288)\n",
      "filling off\n"
     ]
    }
   ],
   "source": [
    "\"\"\"\n",
    "We have 5 variables:\n",
    "TREFHT = Temperature at the reference height (2m), i.e. air temperature\n",
    "TREFHTMX = The maximum recorded air temperature in a month\n",
    "PRECT = Precipitation rate (rain + snow)\n",
    "PRECTMX = The maximum recorded precipitation rate at the model timestep (30 mins)\n",
    "P-E = Precipitation minus total Evaporation (evaporation, transpiraton and sublimation)\n",
    "\"\"\"\n",
    "\n",
    "variables = ['TREFHT', 'TREFHTMX', 'PRECT', 'PRECTMX', 'P-E']\n",
    "variable_shorthand = ['T','Tmax','P','Pmax','P-E']\n",
    "units_orig = ['K','K','m/s','m/s','m/s'] # m/s is not an easy-to-interpret unit so we will convert this later.\n",
    "\n",
    "\"\"\"\n",
    "There are two experiments, and two files for each variable:\n",
    "Control - starts in the year 2010 with GHG emissions following a high-end, rapid-warming scenario\n",
    "Feedback - starts in the year 2020 with the same GHG scenario as Control but with stratospheric aerosol \n",
    "geoengineering deployed to keep temperatures at 2020 levels, see the paper linked to at the start for more.\n",
    "\"\"\"\n",
    "control_name = 'control.001.cam.h0.{VAR}.201001-209912.{SEAS}.nc'\n",
    "feedback_name = 'feedback.001.cam.h0.{VAR}.202001-209912.{SEAS}.nc'\n",
    "\n",
    "# this specifies the path to the data, using \"/\" to separate folders, and it should work in both mac and linux.\n",
    "data_dir = Path(\"data/\")\n",
    "\n",
    "# Now we're going to open a test file. If this doesn't open, edit \"data_dir\" so that the path matches where your data is stored.\n",
    "control_filename = data_dir / control_name.format(VAR='TREFHT', SEAS='ann') \n",
    "control_nc = Dataset(control_filename)\n",
    "\n",
    "# Now we define the latitudes, longitudes, and the time_control variables. Now that they have been defined, we can use them later for plotting.\n",
    "lats = control_nc.variables['lat'][:]\n",
    "lons = control_nc.variables['lon'][:]\n",
    "time_control = control_nc.variables['time'][:]\n",
    "\n",
    "# Now, let's test the data.\n",
    "control_T = control_nc.variables['TREFHT']\n",
    "print(control_T)\n",
    "\n",
    "# You should see a few lines of text describing the TREFHT variable within the netcdf file that we opened. \n",
    "# Note the \"shape\" of the data, and the order of the dimensions: (time, lat, lon) = (90, 192, 288)\n",
    "# This means that time is the first dimension and there are 90 years, 192 latitudes, 288 longitudes."
   ]
  },
  {
   "cell_type": "markdown",
   "metadata": {},
   "source": [
    "# 2.1. Next we create a function to select years "
   ]
  },
  {
   "cell_type": "code",
   "execution_count": 4,
   "metadata": {},
   "outputs": [],
   "source": [
    "def sel_years(data, years_list, ctrl=True):\n",
    "    \"\"\"\n",
    "    Inputs:\n",
    "    Var = netcdf 3D variable, e.g. TREFHT\n",
    "    years_list = list of years to include, 2020 = 20, 2021 = 21, etc.\n",
    "    months_list = list of months to include, Jan = 1, Feb = 2, etc.\n",
    "    ctrl = True for control experiment, False for feedback experiment\n",
    "    Output:\n",
    "    Only those months in data which meet the criteria\n",
    "    \"\"\"\n",
    "    \n",
    "    # For the time index, the first entry has to start at 0 in each experiment (python counts from zero).\n",
    "    # Subtract 10 years for ctrl or 20 years for feedback\n",
    "    y_offset = -10 if ctrl else -20 \n",
    "    years_array = np.array(years_list) + y_offset\n",
    "    \n",
    "    # This loops through all years selected to create a list of indices for the months to be included\n",
    "    time_indices = np.array([YEAR for YEAR in years_array])\n",
    "    print('Check first 20 indices as expected:',time_indices[0:19])\n",
    "    \n",
    "    return data[time_indices,:,:]"
   ]
  },
  {
   "cell_type": "markdown",
   "metadata": {},
   "source": [
    "## 3. Gathering data for our first plot\n",
    "Let's look at air temperature first and see how temperature has changed from today in the two experiments."
   ]
  },
  {
   "cell_type": "code",
   "execution_count": 5,
   "metadata": {},
   "outputs": [],
   "source": [
    "# \"var\" will stand in for \"TREFHT\" below\n",
    "var = 'TREFHT'\n",
    "# We will focus on the annual-mean to start with, but you could look at djf, mam, jja, or son (Northern winter, spring, etc.)\n",
    "season = 'ann'\n",
    "\n",
    "# First let's get the control data\n",
    "control_filename = data_dir / control_name.format(VAR=var, SEAS=season) # Define the filename for the control-variable netcdf\n",
    "control_nc = Dataset(control_filename) # Open the netcdf\n",
    "control_data = control_nc.variables[var][:] # Extract the data, a 3-D array of temperature values, from the netcdf variable\n",
    "\n",
    "# Then do the same for the feedback data\n",
    "feedback_filename = data_dir / feedback_name.format(VAR=var, SEAS=season)\n",
    "feedback_nc = Dataset(feedback_filename)\n",
    "feedback_data = feedback_nc.variables[var][:]"
   ]
  },
  {
   "cell_type": "code",
   "execution_count": 6,
   "metadata": {},
   "outputs": [
    {
     "name": "stdout",
     "output_type": "stream",
     "text": [
      "Check first 20 indices as expected: [ 0  1  2  3  4  5  6  7  8  9 10 11 12 13 14 15 16 17 18]\n",
      "Check first 20 indices as expected: [60 61 62 63 64 65 66 67 68 69 70 71 72 73 74 75 76 77 78]\n",
      "Check first 20 indices as expected: [50 51 52 53 54 55 56 57 58 59 60 61 62 63 64 65 66 67 68]\n"
     ]
    },
    {
     "data": {
      "text/plain": [
       "\"\\nThe sel_time code spits out the first 20 time indices you've selected. The time index starts at 0 in the first month of each experiment.\\nAs Control starts in 2010, so the index starts at 0, and at 2070 it should be 60\\nFeedback starts in 2020, so the first index should be: 50 \\n\""
      ]
     },
     "execution_count": 6,
     "metadata": {},
     "output_type": "execute_result"
    }
   ],
   "source": [
    "\"\"\"\n",
    "Here I define 3 different cases that I will compare:\n",
    "Control 2010 - 2029: This is a 20-year reference period, which is effectively the climate of today\n",
    "Control 2070 - 2089: This is a 20-year period late in the century representative of the changes in the extreme global warming scenario\n",
    "Feedback 2070 - 2089: This is the same 20-year period late in the century and is representative of the changes in the geoengineering scenario\n",
    "\"\"\"\n",
    "\n",
    "\"\"\"\n",
    "These lines use the \"sel_time()\" function to select all the years that we want to look at.\n",
    "In this case I want to look at all years between 2070 (70, here) and 2089. \n",
    "This code: \"[70 + i for i in range(20)]\" makes a list of 20 years that runs from 70 to 89. \n",
    "\"\"\"\n",
    "data_ctrl_10_29 = sel_years(control_data, [10 + i for i in range(20)], ctrl=True)\n",
    "data_ctrl_70_89 = sel_years(control_data, [70 + i for i in range(20)], ctrl=True)\n",
    "data_fdbk_70_89 = sel_years(feedback_data, [70 + i for i in range(20)], ctrl=False) # ctrl = False as this is feedback!\n",
    "\n",
    "# Now I take a mean over the whole period for each case (Time is axis 0)\n",
    "data_ctrl_10_29_mean = np.mean(data_ctrl_10_29, axis=0)\n",
    "data_ctrl_70_89_mean = np.mean(data_ctrl_70_89, axis=0)\n",
    "data_fdbk_70_89_mean = np.mean(data_fdbk_70_89, axis=0)\n",
    "\n",
    "\"\"\"\n",
    "The sel_time code spits out the first 20 time indices you've selected. The time index starts at 0 in the first month of each experiment.\n",
    "As Control starts in 2010, so the index starts at 0, and at 2070 it should be 60\n",
    "Feedback starts in 2020, so the first index should be: 50 \n",
    "\"\"\"\n"
   ]
  },
  {
   "cell_type": "markdown",
   "metadata": {},
   "source": [
    "## 4. Now let's make some map plots\n",
    "We'll be using basemap to make map plots and it's slightly fiddly, so first let's tidy those fiddly bits into a function "
   ]
  },
  {
   "cell_type": "code",
   "execution_count": 10,
   "metadata": {},
   "outputs": [],
   "source": [
    "\"\"\"\n",
    "This function takes in lons, lats, and some 2D data (like our time-mean data) and transforms their coordinates to\n",
    "match the specific map projection we will use, stored in the variable m. Once this function has been defined we don't\n",
    "need to run this section again. See below for usage.\n",
    "\"\"\"\n",
    "def map_transform(m, lons, lats, data_2d):\n",
    "    # Shift lons\n",
    "    lons_sub = np.array([ LON if LON < 180. else LON - 360. for LON in lons ])\n",
    "    lons_roll = np.roll(lons_sub,-144)\n",
    "    lons_cyclic = np.append(lons_roll,180.0)\n",
    "    # map \n",
    "    map_data_combined_a = np.append(data_2d[:,144:], data_2d[:,0:144], axis=1)\n",
    "    map_data_combined = np.append(map_data_combined_a,map_data_combined_a[:,[0]], axis=1)\n",
    "    # Create 2D lat/lon arrays for Basemap\n",
    "    lon2d, lat2d = np.meshgrid(lons_cyclic, lats)\n",
    "    # Transforms lat/lon into plotting coordinates for projection\n",
    "    x, y = m(lon2d, lat2d)\n",
    "    return x, y, map_data_combined\n",
    "    "
   ]
  },
  {
   "cell_type": "code",
   "execution_count": 11,
   "metadata": {},
   "outputs": [
    {
     "data": {
      "image/png": "[encoded data removed]",
      "text/plain": [
       "<Figure size 432x288 with 2 Axes>"
      ]
     },
     "metadata": {
      "needs_background": "light"
     },
     "output_type": "display_data"
    }
   ],
   "source": [
    "\"\"\"\n",
    "Now, let's plot a global map of temperature for the reference period\n",
    "\"\"\"\n",
    "\n",
    "fig = plt.figure()\n",
    "# fig.subplots_adjust(left=0., right=1., bottom=0., top=0.9)\n",
    "# If you'd like there are lots of other projections you can use, see: http://matplotlib.org/basemap/users/mapsetup.html\n",
    "m = Basemap(projection='cyl', llcrnrlat=-90, urcrnrlat=90,\\\n",
    "            llcrnrlon=-180, urcrnrlon=180, resolution='c', lon_0=0)\n",
    "\n",
    "# Let's draw coastlines and the map boundary\n",
    "m.drawcoastlines()\n",
    "m.drawmapboundary()\n",
    "# when you zoom in on your region, you might want to uncomment the following:\n",
    "# m.drawcountries()\n",
    "# m.drawrivers()\n",
    "\n",
    "# Here we use that function we defined earlier\n",
    "x, y, map_data = map_transform(m, lons, lats, data_ctrl_10_29_mean)\n",
    "    \n",
    "# Plot of air temperature with 11 contour intervals, using the \"color map\" viridis.\n",
    "cs = m.contourf(x, y, map_data, 11, cmap=plt.cm.viridis)\n",
    "cbar = plt.colorbar(cs, orientation='horizontal', shrink = 0.9, extend='both')\n",
    "\n",
    "# Now we label the plot and colorbar\n",
    "plt.title('Control Annual-mean')\n",
    "cbar.set_label('Temperature (K)')\n",
    "\n",
    "# Now let's save the file into our folder, and then display it\n",
    "plt.savefig('reference_T.png', format='png', dpi=300)\n",
    "plt.show()"
   ]
  },
  {
   "cell_type": "code",
   "execution_count": null,
   "metadata": {},
   "outputs": [],
   "source": [
    "\"\"\"\n",
    "Now, let's plot the difference between this reference case and the two future cases\n",
    "\"\"\"\n",
    "\n",
    "# First we take the differences\n",
    "ctrl_anom = data_ctrl_70_89_mean - data_ctrl_10_29_mean\n",
    "fdbk_anom = data_fdbk_70_89_mean - data_ctrl_10_29_mean\n",
    "\n",
    "# Next plot the global warming case (ctrl_anom) \n",
    "fig = plt.figure()\n",
    "\n",
    "m = Basemap(projection='cyl', llcrnrlat=-90, urcrnrlat=90,\\\n",
    "            llcrnrlon=-180, urcrnrlon=180, resolution='c', lon_0=0)\n",
    "m.drawcoastlines()\n",
    "m.drawmapboundary()\n",
    "\n",
    "# Same function as before but different data\n",
    "x, y, map_data = map_transform(m, lons, lats, ctrl_anom)\n",
    "    \n",
    "# Now, we're going to specify the bounds for our color bar rather than letting it be generated automatically.\n",
    "bounds = np.linspace(-10,10,21) # this just creates a list of 21 numbers from -10, to 10.\n",
    "norm = colors.BoundaryNorm(boundaries=bounds, ncolors=256)\n",
    "# I've chosen a diverging colormap as we're looking at both positive and negative anomalies. See here for more colorbar options:\n",
    "# https://matplotlib.org/3.1.0/tutorials/colors/colormaps.html\n",
    "cs = m.contourf(x, y, map_data, 11, norm=norm, cmap=plt.cm.bwr, levels=bounds, extend='both')\n",
    "cbar = plt.colorbar(cs, orientation='horizontal', shrink = 0.9, extend='both')\n",
    "\n",
    "# Now we label the plot and colorbar. Let's name it after the GHG scenario its based on: \"RCP8.5\"\n",
    "plt.title('RCP8.5 - Reference')\n",
    "cbar.set_label('Temperature (K)')\n",
    "\n",
    "# Now let's save the file into our folder, and then display it\n",
    "plt.savefig('RCP85_ref_anom_T.png', format='png', dpi=300)\n",
    "plt.show()\n",
    "\n",
    "\"\"\"\n",
    "Next plot the geoengineering case\n",
    "\"\"\"\n",
    "fig = plt.figure()\n",
    "\n",
    "m = Basemap(projection='cyl', llcrnrlat=-90, urcrnrlat=90,\\\n",
    "            llcrnrlon=-180, urcrnrlon=180, resolution='c', lon_0=0)\n",
    "m.drawcoastlines()\n",
    "m.drawmapboundary()\n",
    "\n",
    "# Same function as before but different data\n",
    "x, y, map_data = map_transform(m, lons, lats, fdbk_anom)\n",
    "    \n",
    "# Now, we're going to specify the bounds for our color bar rather than letting it be generated automatically.\n",
    "bounds = np.linspace(-10,10,21) # this just creates a list of 21 numbers from -10, to 10.\n",
    "norm = colors.BoundaryNorm(boundaries=bounds, ncolors=256)\n",
    "cs = m.contourf(x, y, map_data, 11, norm=norm, cmap=plt.cm.bwr, levels=bounds, extend='both')\n",
    "cbar = plt.colorbar(cs, orientation='horizontal', shrink = 0.9, extend='both')\n",
    "\n",
    "# Now we label the plot and colorbar. Let's name it after the geoengineering experiment name \"GLENS\"\n",
    "plt.title('GLENS - Reference')\n",
    "cbar.set_label('Temperature (K)')\n",
    "\n",
    "# Now let's save the file into our folder, and then display it\n",
    "plt.savefig('GLENS_ref_anom_T.png', format='png', dpi=300)\n",
    "plt.show()"
   ]
  },
  {
   "cell_type": "markdown",
   "metadata": {},
   "source": [
    "Check in the folder that the jupyter notebook is running and you should see some nice, high quality png files that you could copy into your reports."
   ]
  },
  {
   "cell_type": "markdown",
   "metadata": {},
   "source": [
    "# 5. Now try for yourself to produce a regional map\n",
    "\n",
    "1. Copy the code which produced the global map of temperature for the reference period into the box below.\n",
    "2. Next, edit the line which calls the \"Basemap\" function and change the 4 variables that specify the map extent to select an area around your country, don't make your box smaller than 20 x 20 degrees. Hint: llcrnrlat = lower-left corner latitude.\n",
    "3. Edit the title and filename so you don't overwrite the original, then run. It may take a few tries to get lon-lat box centred nicely."
   ]
  },
  {
   "cell_type": "code",
   "execution_count": null,
   "metadata": {},
   "outputs": [],
   "source": []
  },
  {
   "cell_type": "markdown",
   "metadata": {},
   "source": [
    "# 6. Now, let's work with the hydrological variables.\n",
    "\n",
    "1. First, Copy the the boxes of code from section 3 to below this box (the + symbol at the top creates new boxes, and the scissors delete them). If you've understood the comments, feel free to delete them below.\n",
    "2. Next, edit the code to change the variable from TREFHT to PRECT. Remember to change the filename or you will overwrite the original \n",
    "3. The hydrological variables are all in inconvenient units of m/s so let's convert them to mm/day. Create a variable that converts m/s to mm/day in the second box. It should look something like this (with a different number): \"to_mm_day = 999999.99999\"\n",
    "4. Where we define control_data and feedback_data multiply the right hand side by this new conversion factor variable.\n",
    "5. Run your edited text boxes.\n",
    "6. Now, copy your regional plot routine from above, edit it, and run it to show your hydrological variable in your region."
   ]
  },
  {
   "cell_type": "code",
   "execution_count": null,
   "metadata": {},
   "outputs": [],
   "source": []
  },
  {
   "cell_type": "markdown",
   "metadata": {},
   "source": [
    "## 7. Hydrological anomaly plots\n",
    "\n",
    "1. Copy the code box from section 4 that plotted the temperature anomaly plots to the space below. As section 6 redefined variables like \"data_ctrl_70_89_mean\" with precipitation data, this code will now produce anomaly plots for precipitation instead of temperature. This means you have to be careful to run them in the right order!\n",
    "2. Make the same edits as before to redefine the map to focus on your region.\n",
    "3. Edit the code to update the labels, titles and filenames of both plots to fit this new setup, then run the code.\n",
    "4. Oh no! the color scale is weird and places getting wetter are red. Edit the \"bounds\" line to give it a more reasonable range and number of steps. you can manually specify the boundaries using a line like this: \"bounds = np.array([-3,-2,-1,0,1,2,3])\"\n",
    "5. Let's also change to a different color scale, replace \"cmap=plt.cm.bwr\" with \"cmap=plt.cm.RdBu\" so blue is wet and red is dry. There are others here if you'd like to pick something else: https://matplotlib.org/3.1.0/tutorials/colors/colormaps.html"
   ]
  },
  {
   "cell_type": "code",
   "execution_count": null,
   "metadata": {},
   "outputs": [],
   "source": []
  },
  {
   "cell_type": "markdown",
   "metadata": {},
   "source": [
    "# 8. Now, start your own analysis!\n",
    "\n",
    "1. Open the \"country_name.ipynb\" jupyter notebook, rename it to your country, and enter your student numbers.\n",
    "2. I've filled out the \"code to run once section\", copying over those parts of the code here that only need to be run once.\n",
    "3. Now you can start copying over and editing the code from this example notebook to start building your own notebook to analyze the climate response in your country. \n",
    "4. Do some analysis of what you believe to be the most relevant changes in your region (you won't be able to look at everything), drawing on some of the EXTRAS I show below.\n",
    "5. Once you're done, you should make sure that your code runs correctly, i.e. if you restart it then run each code box in order it should produce all the figures and results that you think it should. I will run the code on my computer and you will be marked down if it doesn't work. Including \"markdown\" sections, like this one, or comments in the code will help make it clear what your code is doing which will help me and help you too.\n",
    "\n",
    "Note: remember to update the filenames when you produce new plots or you will overwrite your old ones!\n",
    "\n",
    "Note: You have to run the sections in the right order so to plot maps for both temperature and precipitation and calculate their regional means (shown below) your code will have the following sections:\n",
    "1. code based on section 3 to load temperature\n",
    "2. code based on section 4 to plot temperature\n",
    "3. code based on section Extra-4 to calculate mean temperature\n",
    "4. code based on section 3 to load precipitation\n",
    "5. code based on section 4 to plot precipitation\n",
    "6. code based on section Extra-4 to calculate mean precipitation"
   ]
  },
  {
   "cell_type": "markdown",
   "metadata": {},
   "source": [
    "# Extras!\n",
    "Below I give you a few more ideas and tools to extend your analysis."
   ]
  },
  {
   "cell_type": "markdown",
   "metadata": {},
   "source": [
    "## Extra 1. Percentage change\n",
    "It is sometimes useful to look at changes in hydrological variables in percentage terms (not useful for temperature). Beware though that in dry places this could blow up as you could be dividing by almost zero.\n",
    "\n",
    "Simply edit the lines which specify the anomalies (\"ctrl_anom = ...\") to instead calculate the percentage change: * = multiply, / = divide, etc."
   ]
  },
  {
   "cell_type": "markdown",
   "metadata": {},
   "source": [
    "## Extra 2. Different seasons\n",
    "\n",
    "Instead of looking at changes in the annual-mean (or maximum) you could see how things are changing in different seasons. This is straightforward; simply reproduce the code from sections 3 and 4 but change the variable \"season\" from \"ann\" to \"djf\", \"mam\", \"jja\" or \"son\".\n",
    "\n",
    "You could also look at the seasonality, e.g. taking the difference between jja and djf for each case. All you'll need to do is define a new seasonality variable after you've calculated the time-means, and then you could check the difference between the seasonalities of the RCP8.5, GLENS and Reference cases to see how things are changing. \n",
    "\n",
    "NOTE: for djf, the first winter includes only january and February so you might want to shift things back by a year using the selyear function."
   ]
  },
  {
   "cell_type": "markdown",
   "metadata": {},
   "source": [
    "## Extra 3. change in terms of number of standard deviations\n",
    "\n",
    "Some climate variables in some regions vary a lot from year to year and it is interesting to look at how any changes you find compare to this variability. To do so you could use the following code to calculate the standard deviation in the reference period and then divide the anomalies you find by this value."
   ]
  },
  {
   "cell_type": "code",
   "execution_count": null,
   "metadata": {},
   "outputs": [],
   "source": [
    "# just after you calculate the time-mean in Section 3, you could calculate the standard deviation over time for the reference period:\n",
    "data_ctrl_10_29_mean = np.mean(data_ctrl_10_29, axis=0)\n",
    "data_ctrl_10_29_std = np.std(data_ctrl_10_29, axis=0)\n",
    "\n",
    "# then in section 4 when we define the anomalies you could instead divide them by this value:\n",
    "ctrl_anom_std = (data_ctrl_70_89_mean - data_ctrl_10_29_mean) / data_ctrl_10_29_std\n",
    "fdbk_anom_std = (data_fdbk_70_89_mean - data_ctrl_10_29_mean) / data_ctrl_10_29_std"
   ]
  },
  {
   "cell_type": "markdown",
   "metadata": {},
   "source": [
    "## Extra 3. Fractional geoengineering\n",
    "\n",
    "The GLENS experiment offsets all warming from 2020 which might result in an overshoot in your region for some measures. The following code, to be run after the section 3 code loads the data and takes the time-means, produces a simple estimate of the climate response in a scenario with less geoengineering using a simple linearity assumption."
   ]
  },
  {
   "cell_type": "code",
   "execution_count": null,
   "metadata": {},
   "outputs": [],
   "source": [
    "# First rename the data to make things clearer\n",
    "data_ref = data_ctrl_10_29_mean\n",
    "data_RCP85 = data_ctrl_70_89_mean\n",
    "data_GLENS = data_fdbk_70_89_mean\n",
    "\n",
    "fraction = 0.5 # you could change this to some other fraction and change the name below if you like.\n",
    "\"\"\"\n",
    "This function simply linearly scales the data at each latitude and longitude to be some fraction of the way\n",
    "from the value in the RCP8.5 scenario towards the value in the GLENS scenario. \n",
    "If fraction is 0, we return data_RCP8.5, and if the fraction is 1 we return data_GLENS\n",
    "\"\"\"\n",
    "data_half_GLENS = data_RCP85 - fraction * (data_GLENS - data_RCP85)"
   ]
  },
  {
   "cell_type": "markdown",
   "metadata": {},
   "source": [
    "## Extra 4. Regional-means and weighting\n",
    "\n",
    "You could take the mean over your region. \n",
    "\n",
    "Hint: you can use the regional plot to work out the boundaries you want by adjusting them until they match the area you want to take the mean over and then use those values here. However, you have to specify longitudes between 0 and 360 and can't straddle the meridian."
   ]
  },
  {
   "cell_type": "code",
   "execution_count": null,
   "metadata": {},
   "outputs": [],
   "source": [
    "\"\"\"\n",
    "First we define a function to select a lon-lat box.\n",
    "\"\"\"\n",
    "def select_lon_lat_box(data_2d, lons, lats, lower_lat, upper_lat, lower_lon, upper_lon):\n",
    "    # Note you have to specify longitudes between 0 and 360 and can't straddle the meridian.\n",
    "    \n",
    "    # latitude lower and upper index\n",
    "    latli = np.argmin( np.abs( lats - lower_lat ) )\n",
    "    latui = np.argmin( np.abs( lats - upper_lat ) ) \n",
    "\n",
    "    # longitude lower and upper index\n",
    "    lonli = np.argmin( np.abs( lons - lower_lon ) )\n",
    "    lonui = np.argmin( np.abs( lons - upper_lon ) )  \n",
    "\n",
    "    # Return just that part within the bounds\n",
    "    return data_2d[latli:latui,lonli:lonui]"
   ]
  },
  {
   "cell_type": "code",
   "execution_count": null,
   "metadata": {},
   "outputs": [],
   "source": [
    "\"\"\"\n",
    "Next we load a file that specifies the fractional area of each gridcell (those near the poles are smaller than those at the equator)\n",
    "And load up a land area fraction for the model, i.e. what fraction of the gridcell is land as opposed to water.\n",
    "\"\"\"\n",
    "\n",
    "# Load up the gridcell weights (fraction of global area)\n",
    "area_weight_filename = data_dir / 'area_weight.nc' \n",
    "area_weight_nc = Dataset(area_weight_filename) \n",
    "area_weight_data = area_weight_nc.variables['cell_weights'][:]\n",
    "\n",
    "# Load up the land fraction data\n",
    "land_frac_filename = data_dir / 'land_fraction.nc' \n",
    "land_frac_nc = Dataset(land_frac_filename) \n",
    "land_frac_data = 0.01 * land_frac_nc.variables['sftlf'][:] # convert from percent to fraction\n",
    "\n",
    "# Multiply to find the land weighting\n",
    "land_weight = area_weight_data * land_frac_data\n",
    "\n",
    "\"\"\"\n",
    "I've also included data for agriculture fraction and population count so you could weight by these instead. Open the netcdfs, \n",
    "check the variable names, then load them up as above. For agriculture swap that in place of \"land_fraction\". \n",
    "For population you can replace both area_weight and land_fraction. Remember to normalize them after you've selected the region.\n",
    "\"\"\"\n",
    "\n",
    "# Now let's select a random chunk of siberia, for both our land weighting and our anomalies\n",
    "land_weight_select = select_lon_lat_box(land_weight, lons, lats, 60, 90, 50, 70)\n",
    "ctrl_anom_select = select_lon_lat_box(ctrl_anom, lons, lats, 60, 90, 50, 70)\n",
    "fdbk_anom_select = select_lon_lat_box(fdbk_anom, lons, lats, 60, 90, 50, 70)\n",
    "\n",
    "# Now, normalize so that our weighting sums to 1.\n",
    "land_weight_select = land_weight_select / np.sum(land_weight_select)\n",
    "\n",
    "# Now when we multiply this by our data and sum across the gridcells, we will find a land-area-weighted mean!\n",
    "ctrl_anom_mean = np.sum(ctrl_anom_select * land_weight_select)\n",
    "fdbk_anom_mean = np.sum(fdbk_anom_select * land_weight_select)\n",
    "\n",
    "print(\"The land-area-weighted mean for this region,\")\n",
    "print(\"for ctrl_anom is:\", ctrl_anom_mean)\n",
    "print(\"for fdbk_anom is:\", fdbk_anom_mean)"
   ]
  },
  {
   "cell_type": "code",
   "execution_count": null,
   "metadata": {},
   "outputs": [],
   "source": []
  }
 ],
 "metadata": {
  "kernelspec": {
   "display_name": "Python 3",
   "language": "python",
   "name": "python3"
  },
  "language_info": {
   "codemirror_mode": {
    "name": "ipython",
    "version": 3
   },
   "file_extension": ".py",
   "mimetype": "text/x-python",
   "name": "python",
   "nbconvert_exporter": "python",
   "pygments_lexer": "ipython3",
   "version": "3.7.6"
  }
 },
 "nbformat": 4,
 "nbformat_minor": 4
}
