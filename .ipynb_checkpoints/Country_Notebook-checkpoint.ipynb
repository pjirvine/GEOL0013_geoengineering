{
 "cells": [
  {
   "cell_type": "markdown",
   "metadata": {},
   "source": [
    "# COUNTRY-NAME Notebook\n",
    "\n",
    "Your student numbers:\n",
    "1. XXX \n",
    "2. XXX\n",
    "3. XXX\n",
    "\n",
    "Change the name of this notebook file (at the top, by \"jupyter\") to the name of your country, and enter your student numbers above.\n",
    "\n",
    "Edit \"data_dir\" below to the correct folder."
   ]
  },
  {
   "cell_type": "markdown",
   "metadata": {},
   "source": [
    "# Code to run once"
   ]
  },
  {
   "cell_type": "code",
   "execution_count": null,
   "metadata": {},
   "outputs": [],
   "source": [
    "# Import modules\n",
    "import numpy as np\n",
    "import matplotlib.pyplot as plt\n",
    "import matplotlib.colors as colors\n",
    "from netCDF4 import Dataset\n",
    "from mpl_toolkits.basemap import Basemap, addcyclic, shiftgrid\n",
    "from pathlib import Path"
   ]
  },
  {
   "cell_type": "code",
   "execution_count": null,
   "metadata": {},
   "outputs": [],
   "source": [
    "\"\"\"\n",
    "We have 5 variables:\n",
    "TREFHT = Temperature at the reference height (2m), i.e. air temperature\n",
    "TREFHTMX = The maximum recorded air temperature in a month\n",
    "PRECT = Precipitation rate (rain + snow)\n",
    "PRECTMX = The maximum recorded precipitation rate at the model timestep (30 mins)\n",
    "P-E = Precipitation minus total Evaporation (evaporation, transpiraton and sublimation)\n",
    "\"\"\"\n",
    "\n",
    "variables = ['TREFHT', 'TREFHTMX', 'PRECT', 'PRECTMX', 'P-E']\n",
    "variable_shorthand = ['T','Tmax','P','Pmax','P-E']\n",
    "units_orig = ['K','K','m/s','m/s','m/s'] # m/s is not an easy-to-interpret unit so we will convert this later.\n",
    "\n",
    "\"\"\"\n",
    "There are two experiments, and two files for each variable:\n",
    "Control - starts in the year 2010 with GHG emissions following a high-end, rapid-warming scenario\n",
    "Feedback - starts in the year 2020 with the same GHG scenario as Control but with stratospheric aerosol \n",
    "geoengineering deployed to keep temperatures at 2020 levels, see the paper linked to at the start for more.\n",
    "\"\"\"\n",
    "control_name = 'control.001.cam.h0.{VAR}.201001-209912.{SEAS}.nc'\n",
    "feedback_name = 'feedback.001.cam.h0.{VAR}.202001-209912.{SEAS}.nc'\n",
    "\n",
    "# this specifies the path to the data, using \"/\" to separate folders, and it should work in both mac and linux.\n",
    "data_dir = Path(\"data/\")\n",
    "\n",
    "# Now we're going to open a test file. If this doesn't open, edit \"data_dir\" so that the path matches where your data is stored.\n",
    "control_filename = data_dir / control_name.format(VAR='TREFHT', SEAS='ann') \n",
    "control_nc = Dataset(control_filename)\n",
    "\n",
    "# Now we define the latitudes, longitudes, and the time_control variables. Now that they have been defined, we can use them later for plotting.\n",
    "lats = control_nc.variables['lat'][:]\n",
    "lons = control_nc.variables['lon'][:]\n",
    "time_control = control_nc.variables['time'][:]\n"
   ]
  },
  {
   "cell_type": "code",
   "execution_count": null,
   "metadata": {},
   "outputs": [],
   "source": [
    "\"\"\"\n",
    "All the functions from the notebook\n",
    "\"\"\"\n",
    "\n",
    "def sel_years(data, years_list, ctrl=True):\n",
    "    \"\"\"\n",
    "    Inputs:\n",
    "    Var = netcdf 3D variable, e.g. TREFHT\n",
    "    years_list = list of years to include, 2020 = 20, 2021 = 21, etc.\n",
    "    months_list = list of months to include, Jan = 1, Feb = 2, etc.\n",
    "    ctrl = True for control experiment, False for feedback experiment\n",
    "    Output:\n",
    "    Only those months in data which meet the criteria\n",
    "    \"\"\"\n",
    "    \n",
    "    # For the time index, the first entry has to start at 0 in each experiment (python counts from zero).\n",
    "    # Subtract 10 years for ctrl or 20 years for feedback\n",
    "    y_offset = -10 if ctrl else -20 \n",
    "    years_array = np.array(years_list) + y_offset\n",
    "    \n",
    "    # This loops through all years selected to create a list of indices for the months to be included\n",
    "    time_indices = np.array([YEAR for YEAR in years_array])\n",
    "    print('Check first 20 indices as expected:',time_indices[0:19])\n",
    "    \n",
    "    return data[time_indices,:,:]\n",
    "\n",
    "\"\"\"\n",
    "This function takes in lons, lats, and some 2D data (like our time-mean data) and transforms their coordinates to\n",
    "match the specific map projection we will use, stored in the variable m. Once this function has been defined we don't\n",
    "need to run this section again. See below for usage.\n",
    "\"\"\"\n",
    "def map_transform(m, lons, lats, data_2d):\n",
    "    # Make the plot continuous\n",
    "    map_data, lons_cyclic = addcyclic(data_2d, lons)\n",
    "    # Shift the grid so lons go from -180 to 180 instead of 0 to 360.\n",
    "    map_data, lons_cyclic = shiftgrid(180., map_data, lons_cyclic, start=False)\n",
    "    # Create 2D lat/lon arrays for Basemap\n",
    "    lon2d, lat2d = np.meshgrid(lons_cyclic, lats)\n",
    "    # Transforms lat/lon into plotting coordinates for projection\n",
    "    x, y = m(lon2d, lat2d)\n",
    "    return x, y, map_data\n",
    "\n",
    "\"\"\"\n",
    "First we define a function to select a lon-lat box.\n",
    "\"\"\"\n",
    "def select_lon_lat_box(data_2d, lons, lats, lower_lat, upper_lat, lower_lon, upper_lon):\n",
    "    # Note you have to specify longitudes between 0 and 360 and can't straddle the meridian.\n",
    "    \n",
    "    # latitude lower and upper index\n",
    "    latli = np.argmin( np.abs( lats - lower_lat ) )\n",
    "    latui = np.argmin( np.abs( lats - upper_lat ) ) \n",
    "\n",
    "    # longitude lower and upper index\n",
    "    lonli = np.argmin( np.abs( lons - lower_lon ) )\n",
    "    lonui = np.argmin( np.abs( lons - upper_lon ) )  \n",
    "\n",
    "    # Return just that part within the bounds\n",
    "    return data_2d[latli:latui,lonli:lonui]"
   ]
  },
  {
   "cell_type": "markdown",
   "metadata": {},
   "source": [
    "# Your Code Below\n",
    "\n",
    "Copy, paste and edit sections from the practical notebook to start building your notebook. Use markdown boxes like this one to give brief comments / explanations of what you're doing. \n",
    "\n",
    "! Remember I should be able to run this notebook, each box in order, and it should work."
   ]
  },
  {
   "cell_type": "code",
   "execution_count": null,
   "metadata": {},
   "outputs": [],
   "source": []
  }
 ],
 "metadata": {
  "kernelspec": {
   "display_name": "Python 3",
   "language": "python",
   "name": "python3"
  },
  "language_info": {
   "codemirror_mode": {
    "name": "ipython",
    "version": 3
   },
   "file_extension": ".py",
   "mimetype": "text/x-python",
   "name": "python",
   "nbconvert_exporter": "python",
   "pygments_lexer": "ipython3",
   "version": "3.7.6"
  }
 },
 "nbformat": 4,
 "nbformat_minor": 4
}
